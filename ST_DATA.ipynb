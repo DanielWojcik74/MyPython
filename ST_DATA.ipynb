{
 "cells": [
  {
   "cell_type": "code",
   "execution_count": 2,
   "metadata": {},
   "outputs": [],
   "source": [
    "# Biblioteki wejściowe\n",
    "import pandas as pd\n",
    "import numpy as np\n",
    "import posixpath as os\n",
    "import pathlib\n",
    "from pathlib import Path\n",
    "import pyodbc\n",
    "import sys\n",
    "import plotly.express as px\n",
    "import plotly.io as pio\n",
    "import plotly.graph_objects as go\n",
    "from plotly.subplots import make_subplots\n",
    "from pandas.tseries.offsets import MonthEnd\n",
    "import IPython\n",
    "import math\n",
    "\n",
    "pd.set_option(\"display.max_rows\", None)\n",
    "#pd.options.display.max_rows=50000\n",
    "pd.options.display.max_colwidth=70\n",
    "#pd.options.display.min_colwidth=10\n",
    "pd.options.display.precision=2\n",
    "pd.options.display.max_columns=50\n",
    "pd.options.display.float_format='{0:,.2f}'.format\n",
    "\n",
    "DATA = Path(r'/Users/daniel_wojcik/Documents/KOPALNIA/FINANSE (RAPORTY)/STRATEGIA 2023-2028/DATA')\n",
    "ASSETS = Path(r'/Users/daniel_wojcik/Documents/KOPALNIA/FINANSE (RAPORTY)/STRATEGIA 2023-2028/ASSETS')\n",
    "IMAGES = Path(r'/Users/daniel_wojcik/Documents/KOPALNIA/FINANSE (RAPORTY)/STRATEGIA 2023-2028/IMAGES')"
   ]
  },
  {
   "cell_type": "code",
   "execution_count": 3,
   "metadata": {},
   "outputs": [
    {
     "name": "stderr",
     "output_type": "stream",
     "text": [
      "/Library/Frameworks/Python.framework/Versions/3.10/lib/python3.10/site-packages/pandas/io/sql.py:762: UserWarning: pandas only support SQLAlchemy connectable(engine/connection) ordatabase string URI or sqlite3 DBAPI2 connectionother DBAPI2 objects are not tested, please consider using SQLAlchemy\n",
      "  warnings.warn(\n"
     ]
    }
   ],
   "source": [
    "# ZAPYTANIE SQL - Środki Trwałe\n",
    "\n",
    "t_sql=\"SELECT * FROM SrodkiTrwale\"\n",
    "\n",
    "cnxn=pyodbc.connect('DRIVER={ODBC Driver 17 for SQL Server};'\n",
    "                    'Server=192.168.1.252\\ENOVA_KOPALNIA;'\n",
    "                    'Database=OGORZELEC;'\n",
    "                    'UID=ro_daniel.wojcik;'\n",
    "                    'PWD=661594050xkr@;'\n",
    "                    'Trusted_Connection=no;')\n",
    "\n",
    "t_zapisy_ST=pd.read_sql_query (t_sql,cnxn)\n",
    "t_zapisy_ST.to_csv(DATA /'ST_Zapisy_SQL.csv',index=False)"
   ]
  },
  {
   "cell_type": "code",
   "execution_count": 47,
   "metadata": {},
   "outputs": [
    {
     "name": "stderr",
     "output_type": "stream",
     "text": [
      "/Library/Frameworks/Python.framework/Versions/3.10/lib/python3.10/site-packages/pandas/io/sql.py:762: UserWarning: pandas only support SQLAlchemy connectable(engine/connection) ordatabase string URI or sqlite3 DBAPI2 connectionother DBAPI2 objects are not tested, please consider using SQLAlchemy\n",
      "  warnings.warn(\n"
     ]
    }
   ],
   "source": [
    "# ZAPYTANIE SQL - Środki Trwałe\n",
    "\n",
    "t_sql=\"SELECT Typ, Kierunek, Data, SrodekTrwaly, WartoscBilansowaValue FROM ObrotyST;\"\n",
    "\n",
    "cnxn=pyodbc.connect('DRIVER={ODBC Driver 17 for SQL Server};'\n",
    "                    'Server=192.168.1.252\\ENOVA_KOPALNIA;'\n",
    "                    'Database=OGORZELEC;'\n",
    "                    'UID=ro_daniel.wojcik;'\n",
    "                    'PWD=661594050xkr@;'\n",
    "                    'Trusted_Connection=no;')\n",
    "\n",
    "t_zapisy_OST=pd.read_sql_query (t_sql,cnxn)\n",
    "t_zapisy_OST.to_csv(DATA /'OST_Zapisy_SQL.csv',index=False)"
   ]
  },
  {
   "cell_type": "code",
   "execution_count": 39,
   "metadata": {},
   "outputs": [],
   "source": [
    "# Pobiera zapisy z pliku\n",
    "\n",
    "t_zapisy_ST=pd.read_csv(DATA /'ST_Zapisy_SQL.csv')\n",
    "t_zapisy_OST=pd.read_csv(DATA /'OST_Zapisy_SQL.csv')\n",
    "t_zapisy_ST['BO']=t_zapisy_ST['WartoscPoczatkowaBilansowaBOValue']-t_zapisy_ST['OdpisyBilansoweBOValue']\n",
    "t_ST=t_zapisy_ST[['ID', 'NumerInwentarzowy', 'Nazwa','BO']]\n",
    "t_zapisy_OST['Obroty']=t_zapisy_OST.apply(lambda x:x['WartoscBilansowaValue'] if x['Kierunek']==1 else -x['WartoscBilansowaValue'],axis=1)"
   ]
  },
  {
   "cell_type": "markdown",
   "metadata": {},
   "source": [
    "### Raport środków trwałych"
   ]
  },
  {
   "cell_type": "code",
   "execution_count": 40,
   "metadata": {},
   "outputs": [],
   "source": [
    "t_ST_Odpisy=t_zapisy_OST.groupby(['SrodekTrwaly'],as_index=False)[['Obroty']].sum()\n",
    "t_ST=pd.merge(t_ST,t_ST_Odpisy,how='inner',left_on=['ID'],right_on=['SrodekTrwaly'])\n",
    "t_ST['WNA']=t_ST['BO']+t_ST['Obroty']\n",
    "t_ST=t_ST[t_ST['WNA']>1]\n",
    "t_ST=t_ST[['ID', 'NumerInwentarzowy', 'Nazwa','WNA']]\n",
    "t_ST_Data_Max=t_zapisy_OST.groupby(['SrodekTrwaly'],as_index=False)[['Data']].max()\n",
    "t_ST_Amortyzacja=t_zapisy_OST[t_zapisy_OST['Typ']==3]\n",
    "t_ST_Amortyzacja=t_ST_Amortyzacja[['SrodekTrwaly','Data','Obroty']]\n",
    "t_ST_Amortyzacja=pd.merge(t_ST_Data_Max,t_ST_Amortyzacja,how='inner',on=['SrodekTrwaly','Data'])\n",
    "t_ST_Amortyzacja=t_ST_Amortyzacja[t_ST_Amortyzacja['Data']=='2022-09-30']\n",
    "t_ST_Amortyzacja.rename(columns={'SrodekTrwaly':'ID'},inplace=True)\n",
    "t_ST=pd.merge(t_ST,t_ST_Amortyzacja,how='left',on='ID')\n",
    "t_ST.rename(columns={'NumerInwentarzowy':'Numer ST', 'Nazwa':'Nazwa ST', 'WNA':'Wartość Bilansowa',  'Obroty':'Amortyzacja'},inplace=True)\n",
    "\n",
    "t_ST['Data']=t_ST.apply(lambda x:pd.to_datetime('2022-09-30') if x['ID']==306 else x['Data'],axis=1)\n",
    "t_ST['Amortyzacja']=t_ST.apply(lambda x:-x['Wartość Bilansowa']/60 if x['ID']==306 else x['Amortyzacja'],axis=1)"
   ]
  },
  {
   "cell_type": "code",
   "execution_count": 52,
   "metadata": {},
   "outputs": [
    {
     "name": "stderr",
     "output_type": "stream",
     "text": [
      "/var/folders/7l/tjnfp_9n18j7n_6s3mbhg19h0000gn/T/ipykernel_987/661818759.py:1: FutureWarning: Dropping of nuisance columns in DataFrame reductions (with 'numeric_only=None') is deprecated; in a future version this will raise TypeError.  Select only valid columns before calling the reduction.\n",
      "  t_ST.sum()\n"
     ]
    },
    {
     "data": {
      "text/plain": [
       "ID                                                                                   25825\n",
       "Numer ST             001/02101/121104/124104/191101/122101/126109/125109/167104/118105/...\n",
       "Nazwa ST             WU-WIEŚCISZOWICEBUDYNEK WARSZTATU MECHANICZNEGOBUDYNEK KOTŁOWNI-MA...\n",
       "Wartość Bilansowa                                                            11,344,943.80\n",
       "Amortyzacja                                                                    -129,681.85\n",
       "dtype: object"
      ]
     },
     "execution_count": 52,
     "metadata": {},
     "output_type": "execute_result"
    }
   ],
   "source": [
    "t_ST.sum()"
   ]
  },
  {
   "cell_type": "code",
   "execution_count": 48,
   "metadata": {},
   "outputs": [],
   "source": [
    "t_ST_Plan=pd.DataFrame()\n",
    "\n",
    "for index,row in t_ST.iterrows():\n",
    "    NUMER=row['Numer ST']\n",
    "    NAZWA=row['Nazwa ST']\n",
    "    WNA=row['Wartość Bilansowa']\n",
    "    START=pd.to_datetime('2022-09-30')\n",
    "    AM=row['Amortyzacja']\n",
    "\n",
    "    OKRES=math.floor(abs(WNA/AM))\n",
    "    RESZTA=WNA+OKRES*AM\n",
    "\n",
    "    temp_okres=pd.date_range(start=START,freq='M',periods=OKRES+1)\n",
    "    t_ST_temp=pd.DataFrame({'DATE':temp_okres})\n",
    "    KONIEC=t_ST_temp['DATE'].max()\n",
    "\n",
    "    t_ST_temp['Numer ST']=NUMER\n",
    "    t_ST_temp['Nazwa ST']=NAZWA\n",
    "    t_ST_temp['BO']=t_ST_temp.apply(lambda x:WNA if x['DATE']==START else 0,axis=1)\n",
    "    t_ST_temp['Amortyzacja']=t_ST_temp.apply(lambda x:AM if x['DATE']>START else 0,axis=1)\n",
    "    t_ST_temp['Amortyzacja']=t_ST_temp.apply(lambda x:AM-RESZTA if x['DATE']==KONIEC else x['Amortyzacja'],axis=1)\n",
    "    t_ST_temp['BZ']=t_ST_temp['BO']+t_ST_temp['Amortyzacja']\n",
    "    t_ST_temp['BZ']=t_ST_temp['BZ'].cumsum()\n",
    "\n",
    "\n",
    "    t_ST_Plan=pd.concat([t_ST_Plan,t_ST_temp],ignore_index=True)"
   ]
  },
  {
   "cell_type": "code",
   "execution_count": 53,
   "metadata": {},
   "outputs": [
    {
     "name": "stderr",
     "output_type": "stream",
     "text": [
      "/var/folders/7l/tjnfp_9n18j7n_6s3mbhg19h0000gn/T/ipykernel_987/439486127.py:1: FutureWarning: Dropping of nuisance columns in DataFrame reductions (with 'numeric_only=None') is deprecated; in a future version this will raise TypeError.  Select only valid columns before calling the reduction.\n",
      "  t_ST_Plan.sum()\n"
     ]
    },
    {
     "data": {
      "text/plain": [
       "Numer ST       001/02001/02001/02001/02001/02001/02001/02001/02001/02001/02001/02...\n",
       "Nazwa ST       WU-WIEŚCISZOWICEWU-WIEŚCISZOWICEWU-WIEŚCISZOWICEWU-WIEŚCISZOWICEWU...\n",
       "BO                                                                     11,344,943.80\n",
       "Amortyzacja                                                           -11,344,943.80\n",
       "BZ                                                                    809,245,843.01\n",
       "dtype: object"
      ]
     },
     "execution_count": 53,
     "metadata": {},
     "output_type": "execute_result"
    }
   ],
   "source": [
    "t_ST_Plan.sum()"
   ]
  }
 ],
 "metadata": {
  "kernelspec": {
   "display_name": "Python 3.10.7 64-bit",
   "language": "python",
   "name": "python3"
  },
  "language_info": {
   "codemirror_mode": {
    "name": "ipython",
    "version": 3
   },
   "file_extension": ".py",
   "mimetype": "text/x-python",
   "name": "python",
   "nbconvert_exporter": "python",
   "pygments_lexer": "ipython3",
   "version": "3.10.7"
  },
  "orig_nbformat": 4,
  "vscode": {
   "interpreter": {
    "hash": "aee8b7b246df8f9039afb4144a1f6fd8d2ca17a180786b69acc140d282b71a49"
   }
  }
 },
 "nbformat": 4,
 "nbformat_minor": 2
}
