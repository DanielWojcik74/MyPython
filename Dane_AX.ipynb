{
 "cells": [
  {
   "cell_type": "code",
   "execution_count": 1,
   "metadata": {},
   "outputs": [],
   "source": [
    "import pyodbc\n",
    "import pandas as pd\n",
    "import numpy as np\n",
    "import posixpath as os\n",
    "import gc\n",
    "\n",
    "from matplotlib import pyplot as plt\n",
    "from matplotlib.pyplot import figure\n",
    "from IPython.display import display, HTML\n",
    "\n",
    "pd.options.display.max_rows=500\n",
    "pd.options.display.precision=2\n",
    "pd.options.display.max_columns=50\n",
    "pd.options.display.float_format='{0:,.2f}'.format\n",
    "\n",
    "p=r'C:\\Users\\Daniel.Wojcik\\Documents\\FINANSE_2022_NEW\\FAKTURY_2022'\n",
    "#p=r'M:\\FINANSE\\ANALIZY BIZNESOWE\\PY\\1_SPRZEDAZ'"
   ]
  },
  {
   "cell_type": "code",
   "execution_count": 2,
   "metadata": {},
   "outputs": [
    {
     "data": {
      "text/plain": [
       "0"
      ]
     },
     "execution_count": 2,
     "metadata": {},
     "output_type": "execute_result"
    }
   ],
   "source": [
    "t_sql=\"Select CUSTTABLE.ACCOUNTNUM, CUSTTABLE.NAME, CUSTTABLE.ADDRESS, CUSTTABLE.CUSTGROUP, CUSTTABLE.CUSTSECTIONID, CUSTTABLE.CUSTREGIONID, CUSTTABLE.CUSTAREAID, CUSTTABLE.MODIFIEDDATETIME, CUSTTABLE.DATAAREAID, CUSTTABLE.SALESPOOLID From CUSTTABLE Where CUSTTABLE.DATAAREAID = 'prod' \"\n",
    "cnxn=pyodbc.connect('Driver={SQL Server};'\n",
    "                    'Server=192.168.0.29\\EUREKA;'\n",
    "                    'Database=INCO_INT;'\n",
    "                    'Trusted_Connection=yes;')\n",
    "\n",
    "df=pd.read_sql_query (t_sql,cnxn)\n",
    "df.to_pickle(os.join(p,r'\\DATA\\T_Klient.pkl'))\n",
    "del [df]\n",
    "gc.collect()"
   ]
  },
  {
   "cell_type": "code",
   "execution_count": 3,
   "metadata": {},
   "outputs": [
    {
     "data": {
      "text/plain": [
       "0"
      ]
     },
     "execution_count": 3,
     "metadata": {},
     "output_type": "execute_result"
    }
   ],
   "source": [
    "t_sql=\"Select     CUSTINVOICEJOUR.* From CUSTINVOICEJOUR Where CUSTINVOICEJOUR.INVOICEDATE >= '2021-01-01' And CUSTINVOICEJOUR.DATAAREAID = 'prod' \"\n",
    "cnxn=pyodbc.connect('Driver={SQL Server};'\n",
    "                    'Server=192.168.0.29\\EUREKA;'\n",
    "                    'Database=INCO_INT;'\n",
    "                    'Trusted_Connection=yes;')\n",
    "\n",
    "df=pd.read_sql_query (t_sql,cnxn)\n",
    "df.to_pickle(os.join(p,r'\\DATA\\T_Faktury.pkl'))\n",
    "del [df]\n",
    "gc.collect()"
   ]
  },
  {
   "cell_type": "code",
   "execution_count": 4,
   "metadata": {},
   "outputs": [
    {
     "data": {
      "text/plain": [
       "0"
      ]
     },
     "execution_count": 4,
     "metadata": {},
     "output_type": "execute_result"
    }
   ],
   "source": [
    "t_sql=\"Select CUSTINVOICETRANS.* From CUSTINVOICETRANS Where CUSTINVOICETRANS.INVOICEDATE >= '2021-01-01' And CUSTINVOICETRANS.DATAAREAID = 'prod' And CUSTINVOICETRANS.SALESID Like 'ZS%' \"\n",
    "cnxn=pyodbc.connect('Driver={SQL Server};'\n",
    "                    'Server=192.168.0.29\\EUREKA;'\n",
    "                    'Database=INCO_INT;'\n",
    "                    'Trusted_Connection=yes;')\n",
    "\n",
    "df=pd.read_sql_query (t_sql,cnxn)\n",
    "df.to_pickle(os.join(p,r'\\DATA\\T_Faktury_Transakcje.pkl'))\n",
    "del [df]\n",
    "gc.collect()"
   ]
  },
  {
   "cell_type": "code",
   "execution_count": 5,
   "metadata": {},
   "outputs": [
    {
     "data": {
      "text/plain": [
       "0"
      ]
     },
     "execution_count": 5,
     "metadata": {},
     "output_type": "execute_result"
    }
   ],
   "source": [
    "t_sql=\"Select INVENTTABLE.* From INVENTTABLE Where INVENTTABLE.DATAAREAID = 'prod' \"\n",
    "cnxn=pyodbc.connect('Driver={SQL Server};'\n",
    "                    'Server=192.168.0.29\\EUREKA;'\n",
    "                    'Database=INCO_INT;'\n",
    "                    'Trusted_Connection=yes;')\n",
    "\n",
    "df=pd.read_sql_query (t_sql,cnxn)\n",
    "df.to_pickle(os.join(p,r'\\DATA\\T_Produkty.pkl'))\n",
    "del [df]\n",
    "gc.collect()"
   ]
  }
 ],
 "metadata": {
  "kernelspec": {
   "display_name": "Python 3.9.7 64-bit",
   "language": "python",
   "name": "python3"
  },
  "language_info": {
   "codemirror_mode": {
    "name": "ipython",
    "version": 3
   },
   "file_extension": ".py",
   "mimetype": "text/x-python",
   "name": "python",
   "nbconvert_exporter": "python",
   "pygments_lexer": "ipython3",
   "version": "3.9.7"
  },
  "vscode": {
   "interpreter": {
    "hash": "fce886a4837f2ade4e33048383ec24248402677de8662e778bc5bdf8e3e4b1b3"
   }
  }
 },
 "nbformat": 4,
 "nbformat_minor": 2
}
