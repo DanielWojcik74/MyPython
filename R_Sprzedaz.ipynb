{
 "cells": [
  {
   "cell_type": "markdown",
   "id": "e1b832aa-3658-4cca-8e9a-e41505f54ad1",
   "metadata": {
    "pycharm": {
     "name": "#%% md\n"
    }
   },
   "source": [
    "# RAPORT SPRZEDAŻY"
   ]
  },
  {
   "cell_type": "markdown",
   "id": "136068db-0a67-4dae-b654-543aba349d84",
   "metadata": {
    "pycharm": {
     "name": "#%% md\n"
    }
   },
   "source": [
    "## Pobieranie danych żródłowych"
   ]
  },
  {
   "cell_type": "code",
   "execution_count": null,
   "outputs": [],
   "source": [
    "# Biblioteki wejściowe\n",
    "import pandas as pd\n",
    "import numpy as np\n",
    "import posixpath as os\n",
    "import pathlib\n",
    "from pathlib import Path\n",
    "import pyodbc\n",
    "import sys\n",
    "import plotly.express as px\n",
    "import plotly.io as pio\n",
    "import plotly.graph_objects as go\n",
    "from plotly.subplots import make_subplots\n",
    "from pandas.tseries.offsets import MonthEnd\n",
    "import IPython\n",
    "\n",
    "pd.set_option(\"display.max_rows\", None)\n",
    "#pd.options.display.max_rows=50000\n",
    "pd.options.display.max_colwidth=70\n",
    "pd.options.display.precision=2\n",
    "pd.options.display.max_columns=50\n",
    "pd.options.display.float_format='{0:,.2f}'.format\n",
    "\n",
    "#DATA = Path(r'C:\\Users\\p.przybytniak\\Desktop\\RAPORTY_ERP_XL\\Raport sprzedaży\\DATA')\n",
    "DATA = Path(r'C:\\Users\\Andrzej.Szajbel\\Desktop\\RAPORTY_ERP_XL\\Raport sprzedaży\\DATA')\n",
    "ASSETS = Path(r'C:\\Users\\Andrzej.Szajbel\\Desktop\\RAPORTY_ERP_XL\\Raport sprzedaży\\ASSETS')\n",
    "#IMAGES = Path(r'/Users/daniel_wojcik/Documents/KOPALNIA/MIS_REPORT_2022/MONTHLY_REPORTS_2022/MR_202211/IMAGES')\n"
   ],
   "metadata": {
    "collapsed": false,
    "pycharm": {
     "name": "#%%\n"
    }
   }
  },
  {
   "cell_type": "code",
   "execution_count": null,
   "outputs": [],
   "source": [
    "# ZAPYTANIE SQL -Kontrahenci\n",
    "\n",
    "t_sql=\"SELECT  Knt_Akronim as Kontrahent_Id,  ltrim(rtrim(Knt_Nazwa1+Knt_Nazwa2+Knt_Nazwa3)) as Kontrahent_Nazwa , Knt_KodP as Kontrahent_Kod_Pocztowy , Knt_Miasto as Kontrahent_miasto , Knt_NipE as Kontrahent_NIP , Knt_Powiat as Kontrahen_powiat , Knt_Gmina as Kontrahent_Gmina , Knt_Wojewodztwo as Kontrahent_Wojewodztwo , Knt_Modem as Kontrahent_INCO , case Knt_ExpoKraj  \twhen 1 then 'Krajowy' \twhen 2 then 'Unijny' \telse 'Zagraniczny' end As Kontrahent_Status , case Knt_PlatnikVat  \twhen 1 then 'Czynny VAT' \telse 'Niezarejestrowany VAT' end as Kontrahent_VAT , case when Knt_AkwNumer<>0 then Prc_Akronim else '<Brak>' end as Kontrahent_Handlowiec , CDN.PobierzSciezkeRejonu(KnR_Rejon) AS Kontrahent_Rejon FROM CDN.PrcKarty RIGHT OUTER JOIN      CDN.KntKarty ON Prc_GIDTyp = Knt_AkwTyp AND Prc_GIDNumer = Knt_AkwNumer LEFT OUTER JOIN      CDN.Rejony AS MPK INNER JOIN      CDN.KntRejony ON MPK.REJ_Id = KnR_Rejon INNER JOIN      CDN.Rejony AS Kanal ON MPK.REJ_Id = Kanal.REJ_Id ON Knt_GIDNumer = KnR_KntNumer WHERE  Knt_Akronim LIKE '%_000' \"\n",
    "\n",
    "\n",
    "cnxn=pyodbc.connect('DRIVER={SQL Server};'\n",
    "                    'Server=192.168.0.120;'\n",
    "                    'Database=ERPXL_INCO;'\n",
    "                    'UID=COGS;'\n",
    "                    'PWD=Biostar_2023;'\n",
    "                    'Trusted_Connection=yes;')\n",
    "\n",
    "t_kontrahenci=pd.read_sql_query (t_sql,cnxn)\n",
    "t_kontrahenci.to_csv(DATA / 'RS_Zapisy_Kontrahent.csv',sep='\\t',index=False)"
   ],
   "metadata": {
    "collapsed": false,
    "pycharm": {
     "name": "#%%\n"
    }
   }
  },
  {
   "cell_type": "code",
   "execution_count": null,
   "outputs": [],
   "source": [
    "# ZAPYTANIE SQL -Kartoteka\n",
    "\n",
    "t_sql=\"exec [CDN].[PRP_Towary_Atrybuty]\"\n",
    "\n",
    "\n",
    "cnxn=pyodbc.connect('DRIVER={SQL Server};'\n",
    "                    'Server=192.168.0.120;'\n",
    "                    'Database=ERPXL_INCO;'\n",
    "                    'UID=COGS;'\n",
    "                    'PWD=Biostar_2023;'\n",
    "                    'Trusted_Connection=yes;')\n",
    "\n",
    "t_kartoteka=pd.read_sql_query (t_sql,cnxn)\n",
    "t_kartoteka.fillna(0,inplace=True)\n",
    "t_kartoteka.to_csv(DATA / 'RS_Zapisy_kartoteka.csv',sep='\\t',index=False)"
   ],
   "metadata": {
    "collapsed": false,
    "pycharm": {
     "name": "#%%\n"
    }
   }
  },
  {
   "cell_type": "code",
   "execution_count": null,
   "outputs": [],
   "source": [
    "%%time\n",
    "t_sql=\"SELECT  CDN.NazwaObiektu(Dok.TrN_GIDTyp, Dok.TrN_GIDNumer, Dok.TrN_GIDLp, 2) AS DOK_Nr ,Dok.TrN_TrNSeria as DOK_Seria, Dok.TrN_Zaksiegowano as DOK_IFFS , wz.TrN_Zaksiegowano as DOK_IFWZ , dateadd(d,Dok.TrN_Data2,'18001228') as DOK_Data_SP, case Dok.TrN_DataKsiegowania when 0 then null else dateadd(d,Dok.TrN_DataKsiegowania,'18001228') end DOK_Data_FK , Docelowy.Knt_Akronim AS CUST_Odbiorca , Platnik.Knt_Akronim AS CUST_Płatnik , TrE_TwrNumer as PROD_Id , TrE_TwrKod as PROD_Kod , TrE_TwrNazwa as PROD_Nazwa , TrE_StawkaPod as VAL_Vat , TrE_Ilosc as VAL_Ilość , TrE_JmZ as PROD_Jp , TrE_Waluta as VAL_FX_Kod , TrE_KursL/TrE_KursM as VAL_FX_Kurs , TrE_Poczatkowa as VAL_FX_CJ , TrE_Rabat as VAL_PRC_U , TrE_WartoscPoRabacie as VAL_FX_CCU , TrE_KsiegowaNetto as VAL_PLN_CCU , TrE_KosztKsiegowy as COGS_STD , TrE_KosztRzeczywisty as COGS_REAL , Dok.TrN_CechaOpis as DOK_Info_2, Dok.TrN_PrzyczynaKorekty as DOK_Info_1 , TnO_Opis as DOK_Info_3 , dateadd(d,WZ.TrN_DataMag,'18001228') DOK_Data_WZ , cdn.PRFS_Konto_Przychod(TrE_GIDTyp, TrE_GIDNumer, TrE_GIDLp,1) as DOK_Konto , case Dok.TrN_AkwNumer when 0 then '' else '' end SP_PH , case Dok.TrN_OpiNumer when 0 then '' else (select Prc_Akronim from CDN.PrcKarty where Prc_GIDNumer = Dok.TrN_OpiNumer) end SP_KAM FROM CDN.KntKarty AS Platnik INNER JOIN      CDN.TraPlat ON Platnik.Knt_GIDTyp = TrP_KntTyp AND Platnik.Knt_GIDNumer = TrP_KntNumer RIGHT OUTER JOIN      CDN.TraNag AS Dok INNER JOIN      CDN.TraNag AS WZ ON Dok.TrN_GIDTyp = WZ.TrN_SpiTyp AND Dok.TrN_GIDNumer = WZ.TrN_SpiNumer INNER JOIN        CDN.Serie ON Dok.TrN_TrNSeria = Serie.SER_Nazwa INNER JOIN      CDN.KntKarty AS Docelowy ON Dok.TrN_KnDTyp = Docelowy.Knt_GIDTyp AND Dok.TrN_KnDNumer = Docelowy.Knt_GIDNumer ON CDN.TraPlat.TrP_GIDTyp = Dok.TrN_GIDTyp AND       CDN.TraPlat.TrP_GIDNumer = Dok.TrN_GIDNumer LEFT OUTER JOIN      CDN.TraElem ON WZ.TrN_GIDNumer = TrE_GIDNumer LEFT OUTER JOIN      CDN.TrNOpisy ON Dok.TrN_GIDNumer = CDN.TrNOpisy.TnO_TrnNumer WHERE Dok.TrN_GIDTyp IN (2033, 2041, 2037, 2045)\" \n",
    "\n",
    "cnxn=pyodbc.connect('DRIVER={SQL Server};'\n",
    "                    'Server=192.168.0.120;'\n",
    "                    'Database=ERPXL_INCO;'\n",
    "                    'UID=COGS;'\n",
    "                    'PWD=Biostar_2023;'\n",
    "                    'Trusted_Connection=yes;')\n",
    "\n",
    "t_dane_sprzedaży=pd.read_sql_query (t_sql,cnxn)\n",
    "t_dane_sprzedaży.to_csv(DATA / 'RS_Zapisy_dane_sprzedaży.csv',sep='\\t',index=False)"
   ],
   "metadata": {
    "collapsed": false,
    "pycharm": {
     "name": "#%%\n"
    }
   }
  },
  {
   "cell_type": "markdown",
   "source": [
    "## Pobieranie danych zapisanych"
   ],
   "metadata": {
    "collapsed": false,
    "pycharm": {
     "name": "#%% md\n"
    }
   }
  },
  {
   "cell_type": "code",
   "execution_count": null,
   "outputs": [],
   "source": [
    "%%time\n",
    "t_kontrahenci=pd.read_csv(DATA /'RS_Zapisy_Kontrahent.csv',sep='\\t',low_memory=False)\n",
    "t_kartoteka=pd.read_csv(DATA /'RS_Zapisy_kartoteka.csv',sep='\\t',low_memory=False)\n",
    "t_dane_sprzedaży=pd.read_csv(DATA /'RS_Zapisy_dane_sprzedaży.csv',sep='\\t',low_memory=False)"
   ],
   "metadata": {
    "collapsed": false,
    "pycharm": {
     "name": "#%%\n"
    }
   }
  },
  {
   "cell_type": "code",
   "execution_count": null,
   "outputs": [],
   "source": [
    "t_dane_sprzedaży[\"VAL_PLN_CC\"]=t_dane_sprzedaży[\"VAL_FX_CJ\"]*t_dane_sprzedaży[\"VAL_FX_Kurs\"]*t_dane_sprzedaży['VAL_Ilość']"
   ],
   "metadata": {
    "collapsed": false,
    "pycharm": {
     "name": "#%%\n"
    }
   }
  },
  {
   "cell_type": "code",
   "execution_count": null,
   "outputs": [],
   "source": [
    "t_dane_sprzedaży[\"VAL_PLN_U\"]=t_dane_sprzedaży[\"VAL_PLN_CC\"]-t_dane_sprzedaży[\"VAL_PLN_CCU\"]"
   ],
   "metadata": {
    "collapsed": false,
    "pycharm": {
     "name": "#%%\n"
    }
   }
  },
  {
   "cell_type": "code",
   "execution_count": null,
   "outputs": [],
   "source": [
    "%%time\n",
    "t_sprzedaż_w=t_dane_sprzedaży[[\n",
    "    'DOK_Konto',\n",
    "    'DOK_Nr', \n",
    "    'DOK_Seria',\n",
    "    'DOK_IFFS', \n",
    "    'DOK_Data_SP',\n",
    "    'DOK_Info_1',\n",
    "    'DOK_Info_2', \n",
    "    'CUST_Odbiorca', \n",
    "    'CUST_Płatnik', \n",
    "    'PROD_Kod', \n",
    "    'VAL_Ilość', \n",
    "    'VAL_FX_Kod', \n",
    "    'VAL_PLN_CC', \n",
    "    'VAL_PLN_U', \n",
    "    'VAL_PLN_CCU', \n",
    "    'SP_PH', \n",
    "    'SP_KAM'\n",
    "]].copy()"
   ],
   "metadata": {
    "collapsed": false,
    "pycharm": {
     "name": "#%%\n"
    }
   }
  },
  {
   "cell_type": "code",
   "execution_count": null,
   "outputs": [],
   "source": [
    "t_sprzedaż_w[\"DOK_Info_1\"].fillna(\"Faktura pierwotna\",inplace=True)"
   ],
   "metadata": {
    "collapsed": false,
    "pycharm": {
     "name": "#%%\n"
    }
   }
  },
  {
   "cell_type": "code",
   "execution_count": null,
   "outputs": [],
   "source": [
    "t_sprzedaż_w=t_sprzedaż_w[t_sprzedaż_w[\"DOK_Seria\"].str.slice(2,3)==\"T\"]"
   ],
   "metadata": {
    "collapsed": false,
    "pycharm": {
     "name": "#%%\n"
    }
   }
  },
  {
   "cell_type": "code",
   "execution_count": null,
   "outputs": [],
   "source": [
    "t_sprzedaż_w['DOK_K_E']=t_sprzedaż_w['DOK_Seria'].str.slice(1,2)\n",
    "t_sprzedaż_w['DOK_K_E']=t_sprzedaż_w.apply(lambda x:'Kraj' if x['DOK_K_E']==\"S\" else 'Eksport', axis=1)"
   ],
   "metadata": {
    "collapsed": false,
    "pycharm": {
     "name": "#%%\n"
    }
   }
  },
  {
   "cell_type": "code",
   "execution_count": null,
   "outputs": [],
   "source": [
    "t_sprzedaż_w_kor=t_sprzedaż_w[t_sprzedaż_w[\"DOK_Info_1\"]!=\"Faktura pierwotna\"].copy()"
   ],
   "metadata": {
    "collapsed": false,
    "pycharm": {
     "name": "#%%\n"
    }
   }
  },
  {
   "cell_type": "code",
   "execution_count": null,
   "outputs": [],
   "source": [
    "t_sprzedaż_w=t_sprzedaż_w[t_sprzedaż_w[\"DOK_Info_1\"]==\"Faktura pierwotna\"]"
   ],
   "metadata": {
    "collapsed": false,
    "pycharm": {
     "name": "#%%\n"
    }
   }
  },
  {
   "cell_type": "code",
   "execution_count": null,
   "outputs": [],
   "source": [
    "t_kartoteka_draft=t_kartoteka[[\n",
    "    'Kod',\n",
    "    'Nazwa',\n",
    "    'Drzewko',\n",
    "    'Rodzaj',\n",
    "    'Grupa',\n",
    "    'Typ_',\n",
    "    'Marka',\n",
    "    'Etykieta',\n",
    "    'Kategoria',\n",
    "    'Promocja',\n",
    "    'Waga_netto(JM)'\n",
    "]].copy()"
   ],
   "metadata": {
    "collapsed": false,
    "pycharm": {
     "name": "#%%\n"
    }
   }
  },
  {
   "cell_type": "code",
   "execution_count": null,
   "outputs": [],
   "source": [
    "t_kartoteka_draft['Drzewko']=t_kartoteka_draft['Drzewko'].str.split('/').str[1]"
   ],
   "metadata": {
    "collapsed": false,
    "pycharm": {
     "name": "#%%\n"
    }
   }
  },
  {
   "cell_type": "code",
   "execution_count": null,
   "outputs": [],
   "source": [
    "t_kartoteka_draft.rename(columns={'Kod':'PROD_Kod','Nazwa':'PROD_Nazwa','Drzewko':'PROD_SOD','Rodzaj':'PROD_Rodzaj','Grupa':'PROD_Grupa','Typ_':'PROD_Typ','Marka':'PROD_Marka','Etykieta':'PROD_Etykieta','Kategoria':'PROD_Kategoria','Promocja':'PROD_Promocja','Waga_netto(JM)':'PROD_Waga'}, inplace=True)"
   ],
   "metadata": {
    "collapsed": false,
    "pycharm": {
     "name": "#%%\n"
    }
   }
  },
  {
   "cell_type": "code",
   "execution_count": null,
   "outputs": [],
   "source": [
    "t_sprzedaż_w=pd.merge(t_sprzedaż_w,t_kartoteka_draft,on='PROD_Kod',how='left')"
   ],
   "metadata": {
    "collapsed": false,
    "pycharm": {
     "name": "#%%\n"
    }
   }
  },
  {
   "cell_type": "code",
   "execution_count": null,
   "outputs": [],
   "source": [
    "t_kontrahenci.rename(columns={'Kontrahent_Id':'CUST_Płatnik','Kontrahent_Nazwa':'CUST_Nazwa','Kontrahent_Rejon':'CUST_Kanał_temp'}, inplace=True)"
   ],
   "metadata": {
    "collapsed": false,
    "pycharm": {
     "name": "#%%\n"
    }
   }
  },
  {
   "cell_type": "code",
   "execution_count": null,
   "outputs": [],
   "source": [
    "t_kontrahent=t_kontrahenci[['CUST_Płatnik','CUST_Nazwa','CUST_Kanał_temp']].copy()"
   ],
   "metadata": {
    "collapsed": false,
    "pycharm": {
     "name": "#%%\n"
    }
   }
  },
  {
   "cell_type": "code",
   "execution_count": null,
   "outputs": [],
   "source": [
    "t_kontrahent['CUST_Kanał']=t_kontrahent['CUST_Kanał_temp'].str.split('\\\\').str[0]"
   ],
   "metadata": {
    "collapsed": false,
    "pycharm": {
     "name": "#%%\n"
    }
   }
  },
  {
   "cell_type": "code",
   "execution_count": null,
   "outputs": [],
   "source": [
    "t_kontrahent['CUST_PH']=t_kontrahent['CUST_Kanał_temp'].str.split('\\\\').str[-1]"
   ],
   "metadata": {
    "collapsed": false,
    "pycharm": {
     "name": "#%%\n"
    }
   }
  },
  {
   "cell_type": "code",
   "execution_count": null,
   "outputs": [],
   "source": [
    "t_kontrahent['CUST_Kanał'].fillna('POZ', inplace=True)\n",
    "t_kontrahent['CUST_PH'].fillna('POZ', inplace=True)\n",
    "\n",
    "t_kontrahent.drop(['CUST_Kanał_temp'],axis=1,inplace=True)"
   ],
   "metadata": {
    "collapsed": false,
    "pycharm": {
     "name": "#%%\n"
    }
   }
  },
  {
   "cell_type": "code",
   "execution_count": null,
   "outputs": [],
   "source": [
    "# Zapisywanie kartoteki do excel\n",
    "t_kontrahenci.to_excel(os.join(DATA,r'\\kontrahenci.xlsx'),index=False)"
   ],
   "metadata": {
    "collapsed": false,
    "pycharm": {
     "name": "#%%\n"
    }
   }
  },
  {
   "cell_type": "code",
   "execution_count": null,
   "outputs": [],
   "source": [
    "t_sprzedaż_w=pd.merge(t_sprzedaż_w,t_kontrahent,how='left',on=['CUST_Płatnik'])"
   ],
   "metadata": {
    "collapsed": false,
    "pycharm": {
     "name": "#%%\n"
    }
   }
  },
  {
   "cell_type": "markdown",
   "source": [
    "### Aktualizacja wyjątków"
   ],
   "metadata": {
    "collapsed": false,
    "pycharm": {
     "name": "#%% md\n"
    }
   }
  },
  {
   "cell_type": "code",
   "execution_count": null,
   "outputs": [],
   "source": [
    "# Aktualizuje Biedronkę\n",
    "t_sprzedaż_w['CUST_Kanał']=t_sprzedaż_w.apply(lambda x:'DSS' if (x['CUST_Płatnik']=='K200003_000' and x['PROD_Marka']=='LUDWIK') else x['CUST_Kanał'],axis=1)"
   ],
   "metadata": {
    "collapsed": false,
    "pycharm": {
     "name": "#%%\n"
    }
   }
  },
  {
   "cell_type": "code",
   "execution_count": null,
   "outputs": [],
   "source": [
    "# Aktualizacja Marek Własnych\n",
    "t_sprzedaż_w['CUST_Kanał']=t_sprzedaż_w.apply(lambda x:'WS' if ((x['CUST_Kanał']!='POZ' and x['CUST_Kanał']!='WSE') and \n",
    "                                                                   (x['PROD_Kod'].startswith('CG106')==True or\n",
    "                                                                    x['PROD_Kod'].startswith('CG108')==True or\n",
    "                                                                    x['PROD_Kod'].startswith('CGP06')==True or\n",
    "                                                                    x['PROD_Kod'].startswith('CGP08')==True or\n",
    "                                                                    x['PROD_Kod'].startswith('NW106')==True or\n",
    "                                                                    x['PROD_Kod'].startswith('NWP06')==True or\n",
    "                                                                    x['PROD_Kod'].startswith('PL106')==True or\n",
    "                                                                    x['PROD_Kod'].startswith('PLP06')==True)) else x['CUST_Kanał'],axis=1)"
   ],
   "metadata": {
    "collapsed": false,
    "pycharm": {
     "name": "#%%\n"
    }
   }
  },
  {
   "cell_type": "code",
   "execution_count": null,
   "outputs": [],
   "source": [
    "# Aktualizacja DSNP\n",
    "t_sprzedaż_w['CUST_Kanał']=t_sprzedaż_w.apply(lambda x:'DSNP' if (x['PROD_Kod'].startswith('NW108')==True and x['PROD_Kod']!='NW1080201N01AG011' and x['CUST_Kanał']=='DSNH') else x['CUST_Kanał'],axis=1)\n",
    "t_sprzedaż_w['CUST_Kanał']=t_sprzedaż_w.apply(lambda x:'DSNP' if (x['PROD_Kod'].startswith('NW108')==True and x['PROD_Kod']!='NW1080201N01AG011' and x['CUST_Kanał']=='DSNS') else x['CUST_Kanał'],axis=1)\n",
    "t_sprzedaż_w['CUST_Kanał']=t_sprzedaż_w.apply(lambda x:'DSNH' if (x['PROD_Kod']=='NW1080201N01AG011' and x['CUST_Kanał']=='DSNP') else x['CUST_Kanał'],axis=1)\n",
    "\n",
    "t_sprzedaż_w['CUST_Kanał']=t_sprzedaż_w.apply(lambda x:'DSNP' if ((x['PROD_Kod'].startswith('NW1060206')==True or x['PROD_Kod'].startswith('NW1060207')==True) and x['CUST_Kanał']!='POZ') else x['CUST_Kanał'],axis=1)\n",
    "t_sprzedaż_w['CUST_Kanał']=t_sprzedaż_w.apply(lambda x:'DSNP' if (x['PROD_Kod'].startswith('NW1020201N01AI011')==True and x['CUST_Kanał']=='DSNH') else x['CUST_Kanał'],axis=1)\n",
    "\n",
    "t_sprzedaż_w['CUST_Kanał']=t_sprzedaż_w.apply(lambda x:'DSNP' if \n",
    "                                              (x['PROD_Kod']=='NW1020201N01AI011' and x['CUST_Kanał']=='DSNH')\n",
    "                                              or (x['PROD_Kod']=='NW1060101N97BA011' and x['CUST_Kanał']=='WS')\n",
    "                                              or (x['PROD_Kod']=='NW1010101N01AK011' and x['CUST_Kanał']=='DSNH')\n",
    "                                              or (x['PROD_Kod']=='NW1050102N02AG011' and x['CUST_Kanał']=='DSNH')\n",
    "                                              or (x['PROD_Kod']=='NW1060114N90AK011' and x['CUST_Kanał']=='WS')\n",
    "                                              else x['CUST_Kanał'],axis=1)"
   ],
   "metadata": {
    "collapsed": false,
    "pycharm": {
     "name": "#%%\n"
    }
   }
  },
  {
   "cell_type": "code",
   "execution_count": null,
   "outputs": [],
   "source": [
    "# Aktualizacja GCG DSNS\n",
    "t_sprzedaż_w['CUST_Kanał']=t_sprzedaż_w.apply(lambda x:'DSS' if (x['PROD_Kod'].startswith('CG')==True and x['CUST_Kanał']=='DSNS') else x['CUST_Kanał'],axis=1)\n",
    "t_sprzedaż_w['CUST_Kanał']=t_sprzedaż_w.apply(lambda x:'DSS' if (x['PROD_Kod'].startswith('PL')==True and x['CUST_Kanał']=='DSNS') else x['CUST_Kanał'],axis=1)\n",
    "t_sprzedaż_w['CUST_Kanał']=t_sprzedaż_w.apply(lambda x:'DSS' if (x['PROD_Kod'].startswith('NW')==True and x['CUST_Kanał']=='DSS') else x['CUST_Kanał'],axis=1)"
   ],
   "metadata": {
    "collapsed": false,
    "pycharm": {
     "name": "#%%\n"
    }
   }
  },
  {
   "cell_type": "code",
   "execution_count": null,
   "outputs": [],
   "source": [
    "# Aktualizacja Biofos DSNS\n",
    "t_sprzedaż_w['CUST_Kanał']=t_sprzedaż_w.apply(lambda x:'DSNS' if (\n",
    "    (x['PROD_Kod'].startswith('CG10509')==True or x['PROD_Kod'].startswith('CGP0509')==True) and \n",
    "    (x['CUST_Kanał']=='DSNS') and\n",
    "    (x['CUST_Płatnik']=='K200035_000' or x['CUST_Płatnik']=='K200033_000')) else x['CUST_Kanał'],axis=1)"
   ],
   "metadata": {
    "collapsed": false,
    "pycharm": {
     "name": "#%%\n"
    }
   }
  },
  {
   "cell_type": "code",
   "execution_count": null,
   "outputs": [],
   "source": [
    "# Aktualizuje Kanał KGO Zewnętrzna\n",
    "t_sprzedaż_w['CUST_Kanał']=t_sprzedaż_w.apply(lambda x:'KGO_Z' if (x['CUST_Kanał'] =='KGO') else x['CUST_Kanał'], axis=1)"
   ],
   "metadata": {
    "collapsed": false,
    "pycharm": {
     "name": "#%%\n"
    }
   }
  },
  {
   "cell_type": "code",
   "execution_count": null,
   "outputs": [],
   "source": [
    "t_sprzedaż_w.head()"
   ],
   "metadata": {
    "collapsed": false,
    "pycharm": {
     "name": "#%%\n"
    }
   }
  },
  {
   "cell_type": "code",
   "execution_count": 27,
   "id": "a8594b5a-c97d-4ece-99e2-22e7b1247afc",
   "metadata": {},
   "outputs": [],
   "source": [
    "# Aktualizacja DSNP\n",
    "t_sprzedaż_w['CUST_Kanał']=t_sprzedaż_w.apply(lambda x:'DSNP' if (x['PROD_Kod'].startswith('NW108')==True and x['PROD_Kod']!='NW1080201N01AG011' and x['CUST_Kanał']=='DSNH') else x['CUST_Kanał'],axis=1)\n",
    "t_sprzedaż_w['CUST_Kanał']=t_sprzedaż_w.apply(lambda x:'DSNP' if (x['PROD_Kod'].startswith('NW108')==True and x['PROD_Kod']!='NW1080201N01AG011' and x['CUST_Kanał']=='DSNS') else x['CUST_Kanał'],axis=1)\n",
    "t_sprzedaż_w['CUST_Kanał']=t_sprzedaż_w.apply(lambda x:'DSNH' if (x['PROD_Kod']=='NW1080201N01AG011' and x['CUST_Kanał']=='DSNP') else x['CUST_Kanał'],axis=1)\n",
    "\n",
    "t_sprzedaż_w['CUST_Kanał']=t_sprzedaż_w.apply(lambda x:'DSNP' if ((x['PROD_Kod'].startswith('NW1060206')==True or x['PROD_Kod'].startswith('NW1060207')==True) and x['CUST_Kanał']!='POZ') else x['CUST_Kanał'],axis=1)\n",
    "t_sprzedaż_w['CUST_Kanał']=t_sprzedaż_w.apply(lambda x:'DSNP' if (x['PROD_Kod'].startswith('NW1020201N01AI011')==True and x['CUST_Kanał']=='DSNH') else x['CUST_Kanał'],axis=1)\n",
    "\n",
    "t_sprzedaż_w['CUST_Kanał']=t_sprzedaż_w.apply(lambda x:'DSNP' if \n",
    "                                              (x['PROD_Kod']=='NW1020201N01AI011' and x['CUST_Kanał']=='DSNH')\n",
    "                                              or (x['PROD_Kod']=='NW1060101N97BA011' and x['CUST_Kanał']=='WS')\n",
    "                                              or (x['PROD_Kod']=='NW1010101N01AK011' and x['CUST_Kanał']=='DSNH')\n",
    "                                              or (x['PROD_Kod']=='NW1050102N02AG011' and x['CUST_Kanał']=='DSNH')\n",
    "                                              or (x['PROD_Kod']=='NW1060114N90AK011' and x['CUST_Kanał']=='WS')\n",
    "                                              else x['CUST_Kanał'],axis=1)"
   ]
  },
  {
   "cell_type": "code",
   "execution_count": 28,
   "id": "1ed0166f-6116-43c6-be28-8759d37cbb8a",
   "metadata": {},
   "outputs": [],
   "source": [
    "# Aktualizacja GCG DSNS\n",
    "t_sprzedaż_w['CUST_Kanał']=t_sprzedaż_w.apply(lambda x:'DSS' if (x['PROD_Kod'].startswith('CG')==True and x['CUST_Kanał']=='DSNS') else x['CUST_Kanał'],axis=1)\n",
    "t_sprzedaż_w['CUST_Kanał']=t_sprzedaż_w.apply(lambda x:'DSS' if (x['PROD_Kod'].startswith('PL')==True and x['CUST_Kanał']=='DSNS') else x['CUST_Kanał'],axis=1)\n",
    "t_sprzedaż_w['CUST_Kanał']=t_sprzedaż_w.apply(lambda x:'DSS' if (x['PROD_Kod'].startswith('NW')==True and x['CUST_Kanał']=='DSS') else x['CUST_Kanał'],axis=1)"
   ]
  },
  {
   "cell_type": "code",
   "execution_count": 29,
   "id": "30856bd8-c7fa-4049-aa5d-f4ac602902b3",
   "metadata": {},
   "outputs": [],
   "source": [
    "# Aktualizacja Biofos DSNS\n",
    "t_sprzedaż_w['CUST_Kanał']=t_sprzedaż_w.apply(lambda x:'DSNS' if (\n",
    "    (x['PROD_Kod'].startswith('CG10509')==True or x['PROD_Kod'].startswith('CGP0509')==True) and \n",
    "    (x['CUST_Kanał']=='DSNS') and\n",
    "    (x['CUST_Płatnik']=='K200035_000' or x['CUST_Płatnik']=='K200033_000')) else x['CUST_Kanał'],axis=1)"
   ]
  },
  {
   "cell_type": "code",
   "execution_count": 30,
   "id": "1fe0b7d1-b84b-408c-ae96-b17d68daa995",
   "metadata": {},
   "outputs": [],
   "source": [
    "# Aktualizuje Kanał KGO Zewnętrzna\n",
    "t_sprzedaż_w['CUST_Kanał']=t_sprzedaż_w.apply(lambda x:'KGO_Z' if (x['CUST_Kanał'] =='KGO') else x['CUST_Kanał'], axis=1)"
   ]
  },
  {
   "cell_type": "code",
   "execution_count": 31,
   "id": "f29ae0a7-7783-4d7f-a907-70f084f0efb8",
   "metadata": {},
   "outputs": [
    {
     "data": {
      "text/html": [
       "<div>\n",
       "<style scoped>\n",
       "    .dataframe tbody tr th:only-of-type {\n",
       "        vertical-align: middle;\n",
       "    }\n",
       "\n",
       "    .dataframe tbody tr th {\n",
       "        vertical-align: top;\n",
       "    }\n",
       "\n",
       "    .dataframe thead th {\n",
       "        text-align: right;\n",
       "    }\n",
       "</style>\n",
       "<table border=\"1\" class=\"dataframe\">\n",
       "  <thead>\n",
       "    <tr style=\"text-align: right;\">\n",
       "      <th></th>\n",
       "      <th>DOK_Konto</th>\n",
       "      <th>DOK_Nr</th>\n",
       "      <th>DOK_Seria</th>\n",
       "      <th>DOK_IFFS</th>\n",
       "      <th>DOK_Data_SP</th>\n",
       "      <th>DOK_Info_1</th>\n",
       "      <th>DOK_Info_2</th>\n",
       "      <th>CUST_Odbiorca</th>\n",
       "      <th>CUST_Płatnik</th>\n",
       "      <th>PROD_Kod</th>\n",
       "      <th>VAL_Ilość</th>\n",
       "      <th>VAL_FX_Kod</th>\n",
       "      <th>VAL_PLN_CC</th>\n",
       "      <th>VAL_PLN_U</th>\n",
       "      <th>VAL_PLN_CCU</th>\n",
       "      <th>SP_PH</th>\n",
       "      <th>SP_KAM</th>\n",
       "      <th>DOK_K_E</th>\n",
       "      <th>PROD_Nazwa</th>\n",
       "      <th>PROD_SOD</th>\n",
       "      <th>PROD_Rodzaj</th>\n",
       "      <th>PROD_Grupa</th>\n",
       "      <th>PROD_Typ</th>\n",
       "      <th>PROD_Marka</th>\n",
       "      <th>PROD_Etykieta</th>\n",
       "      <th>PROD_Kategoria</th>\n",
       "      <th>PROD_Promocja</th>\n",
       "      <th>PROD_Waga</th>\n",
       "      <th>CUST_Nazwa</th>\n",
       "      <th>CUST_Kanał</th>\n",
       "      <th>CUST_PH</th>\n",
       "    </tr>\n",
       "  </thead>\n",
       "  <tbody>\n",
       "    <tr>\n",
       "      <th>0</th>\n",
       "      <td>701-02-01-01-100-02</td>\n",
       "      <td>(S)FS-GSTFP/23/01/1</td>\n",
       "      <td>GSTFP</td>\n",
       "      <td>0</td>\n",
       "      <td>2023-01-05</td>\n",
       "      <td>Faktura pierwotna</td>\n",
       "      <td>SAGRA</td>\n",
       "      <td>K200019_000</td>\n",
       "      <td>K200019_000</td>\n",
       "      <td>CG1050962Z0010121</td>\n",
       "      <td>12.00</td>\n",
       "      <td>PLN</td>\n",
       "      <td>101.64</td>\n",
       "      <td>16.32</td>\n",
       "      <td>85.32</td>\n",
       "      <td>NaN</td>\n",
       "      <td>NaN</td>\n",
       "      <td>Kraj</td>\n",
       "      <td>BIOFOS Wc żel BIO 500ml a.12</td>\n",
       "      <td>GCG</td>\n",
       "      <td>Wyroby gotowe</td>\n",
       "      <td>Pozostałe</td>\n",
       "      <td>Żel do WC</td>\n",
       "      <td>BIOFOS</td>\n",
       "      <td>EKO</td>\n",
       "      <td>POZOSTAŁE</td>\n",
       "      <td>Prod. Standardowe</td>\n",
       "      <td>0,5225</td>\n",
       "      <td>KOMPLEX-TORUS SP. Z O.O.</td>\n",
       "      <td>DSH</td>\n",
       "      <td>HWA</td>\n",
       "    </tr>\n",
       "    <tr>\n",
       "      <th>1</th>\n",
       "      <td>701-02-01-01-100-02</td>\n",
       "      <td>(S)FS-GSTFP/23/01/1</td>\n",
       "      <td>GSTFP</td>\n",
       "      <td>0</td>\n",
       "      <td>2023-01-05</td>\n",
       "      <td>Faktura pierwotna</td>\n",
       "      <td>SAGRA</td>\n",
       "      <td>K200019_000</td>\n",
       "      <td>K200019_000</td>\n",
       "      <td>CGP050902M0110041</td>\n",
       "      <td>8.00</td>\n",
       "      <td>PLN</td>\n",
       "      <td>302.32</td>\n",
       "      <td>48.40</td>\n",
       "      <td>253.92</td>\n",
       "      <td>NaN</td>\n",
       "      <td>NaN</td>\n",
       "      <td>Kraj</td>\n",
       "      <td>Zestaw Biofos Professional (proszek 1,0 kg + żel WC BIO 500 ml) a.4</td>\n",
       "      <td>GCG</td>\n",
       "      <td>Wyroby gotowe</td>\n",
       "      <td>Pozostałe</td>\n",
       "      <td>Do szamb</td>\n",
       "      <td>BIOFOS</td>\n",
       "      <td>Standard</td>\n",
       "      <td>POZOSTAŁE</td>\n",
       "      <td>Prod. Standardowe</td>\n",
       "      <td>1,5275</td>\n",
       "      <td>KOMPLEX-TORUS SP. Z O.O.</td>\n",
       "      <td>DSH</td>\n",
       "      <td>HWA</td>\n",
       "    </tr>\n",
       "    <tr>\n",
       "      <th>2</th>\n",
       "      <td>701-02-01-01-100-03</td>\n",
       "      <td>FS-ISTFP/23/01/1</td>\n",
       "      <td>ISTFP</td>\n",
       "      <td>0</td>\n",
       "      <td>2023-01-05</td>\n",
       "      <td>Faktura pierwotna</td>\n",
       "      <td>NaN</td>\n",
       "      <td>K100001_000</td>\n",
       "      <td>K100001_000</td>\n",
       "      <td>NW1020102N77D0011</td>\n",
       "      <td>1.00</td>\n",
       "      <td>PLN</td>\n",
       "      <td>52.54</td>\n",
       "      <td>3.89</td>\n",
       "      <td>48.65</td>\n",
       "      <td>NaN</td>\n",
       "      <td>NaN</td>\n",
       "      <td>Kraj</td>\n",
       "      <td>FLOROVIT NAWÓZ DO TRAWNIKÓW SZYBKI EFEKT 5,0 KG</td>\n",
       "      <td>GNW</td>\n",
       "      <td>Wyroby gotowe</td>\n",
       "      <td>Nawozy do trawników</td>\n",
       "      <td>Granulat</td>\n",
       "      <td>FLOROVIT</td>\n",
       "      <td>Standard</td>\n",
       "      <td>POZOSTAŁE</td>\n",
       "      <td>Prod. Standardowe</td>\n",
       "      <td>5</td>\n",
       "      <td>\"GRUPA INCO\" SPÓŁKA AKCYJNA</td>\n",
       "      <td>POZ</td>\n",
       "      <td>POZ</td>\n",
       "    </tr>\n",
       "    <tr>\n",
       "      <th>3</th>\n",
       "      <td>XXX-02-01-99-100-01</td>\n",
       "      <td>FS-ISTFP/23/01/1</td>\n",
       "      <td>ISTFP</td>\n",
       "      <td>0</td>\n",
       "      <td>2023-01-05</td>\n",
       "      <td>Faktura pierwotna</td>\n",
       "      <td>NaN</td>\n",
       "      <td>K100001_000</td>\n",
       "      <td>K100001_000</td>\n",
       "      <td>PRZESYŁKA8</td>\n",
       "      <td>1.00</td>\n",
       "      <td>PLN</td>\n",
       "      <td>12.99</td>\n",
       "      <td>0.96</td>\n",
       "      <td>12.03</td>\n",
       "      <td>NaN</td>\n",
       "      <td>NaN</td>\n",
       "      <td>Kraj</td>\n",
       "      <td>PRZESYŁKA8</td>\n",
       "      <td>NaN</td>\n",
       "      <td>NaN</td>\n",
       "      <td>NaN</td>\n",
       "      <td>NaN</td>\n",
       "      <td>0</td>\n",
       "      <td>NaN</td>\n",
       "      <td>NaN</td>\n",
       "      <td>NaN</td>\n",
       "      <td>NaN</td>\n",
       "      <td>\"GRUPA INCO\" SPÓŁKA AKCYJNA</td>\n",
       "      <td>POZ</td>\n",
       "      <td>POZ</td>\n",
       "    </tr>\n",
       "    <tr>\n",
       "      <th>4</th>\n",
       "      <td>701-02-01-01-100-02</td>\n",
       "      <td>FS-ISTFP/23/01/2</td>\n",
       "      <td>ISTFP</td>\n",
       "      <td>0</td>\n",
       "      <td>2023-01-09</td>\n",
       "      <td>Faktura pierwotna</td>\n",
       "      <td>NaN</td>\n",
       "      <td>K204013_000</td>\n",
       "      <td>K204013_000</td>\n",
       "      <td>CG1010113Z0210121</td>\n",
       "      <td>24.00</td>\n",
       "      <td>PLN</td>\n",
       "      <td>157.68</td>\n",
       "      <td>29.48</td>\n",
       "      <td>128.20</td>\n",
       "      <td>NaN</td>\n",
       "      <td>NaN</td>\n",
       "      <td>Kraj</td>\n",
       "      <td>Ludwik płyn do mycia naczyń cytrynowy 900 g  a'12 K</td>\n",
       "      <td>GCG</td>\n",
       "      <td>Wyroby gotowe</td>\n",
       "      <td>Płyn do mycia naczyń</td>\n",
       "      <td>od 0,90 do 1,34 [kg:l]</td>\n",
       "      <td>LUDWIK</td>\n",
       "      <td>Standard</td>\n",
       "      <td>POZOSTAŁE</td>\n",
       "      <td>Prod. Standardowe</td>\n",
       "      <td>0,9</td>\n",
       "      <td>Uniwersytet Przyrodniczy w Lublinie</td>\n",
       "      <td>POZ</td>\n",
       "      <td>POZ</td>\n",
       "    </tr>\n",
       "  </tbody>\n",
       "</table>\n",
       "</div>"
      ],
      "text/plain": [
       "             DOK_Konto               DOK_Nr DOK_Seria  DOK_IFFS DOK_Data_SP  \\\n",
       "0  701-02-01-01-100-02  (S)FS-GSTFP/23/01/1     GSTFP         0  2023-01-05   \n",
       "1  701-02-01-01-100-02  (S)FS-GSTFP/23/01/1     GSTFP         0  2023-01-05   \n",
       "2  701-02-01-01-100-03     FS-ISTFP/23/01/1     ISTFP         0  2023-01-05   \n",
       "3  XXX-02-01-99-100-01     FS-ISTFP/23/01/1     ISTFP         0  2023-01-05   \n",
       "4  701-02-01-01-100-02     FS-ISTFP/23/01/2     ISTFP         0  2023-01-09   \n",
       "\n",
       "          DOK_Info_1 DOK_Info_2 CUST_Odbiorca CUST_Płatnik           PROD_Kod  \\\n",
       "0  Faktura pierwotna      SAGRA   K200019_000  K200019_000  CG1050962Z0010121   \n",
       "1  Faktura pierwotna      SAGRA   K200019_000  K200019_000  CGP050902M0110041   \n",
       "2  Faktura pierwotna        NaN   K100001_000  K100001_000  NW1020102N77D0011   \n",
       "3  Faktura pierwotna        NaN   K100001_000  K100001_000         PRZESYŁKA8   \n",
       "4  Faktura pierwotna        NaN   K204013_000  K204013_000  CG1010113Z0210121   \n",
       "\n",
       "   VAL_Ilość VAL_FX_Kod  VAL_PLN_CC  VAL_PLN_U  VAL_PLN_CCU  SP_PH SP_KAM  \\\n",
       "0      12.00        PLN      101.64      16.32        85.32    NaN    NaN   \n",
       "1       8.00        PLN      302.32      48.40       253.92    NaN    NaN   \n",
       "2       1.00        PLN       52.54       3.89        48.65    NaN    NaN   \n",
       "3       1.00        PLN       12.99       0.96        12.03    NaN    NaN   \n",
       "4      24.00        PLN      157.68      29.48       128.20    NaN    NaN   \n",
       "\n",
       "  DOK_K_E  \\\n",
       "0    Kraj   \n",
       "1    Kraj   \n",
       "2    Kraj   \n",
       "3    Kraj   \n",
       "4    Kraj   \n",
       "\n",
       "                                                             PROD_Nazwa  \\\n",
       "0                                         BIOFOS Wc żel BIO 500ml a.12    \n",
       "1  Zestaw Biofos Professional (proszek 1,0 kg + żel WC BIO 500 ml) a.4    \n",
       "2                      FLOROVIT NAWÓZ DO TRAWNIKÓW SZYBKI EFEKT 5,0 KG    \n",
       "3                                                           PRZESYŁKA8    \n",
       "4                  Ludwik płyn do mycia naczyń cytrynowy 900 g  a'12 K    \n",
       "\n",
       "  PROD_SOD    PROD_Rodzaj            PROD_Grupa                PROD_Typ  \\\n",
       "0      GCG  Wyroby gotowe             Pozostałe               Żel do WC   \n",
       "1      GCG  Wyroby gotowe             Pozostałe                Do szamb   \n",
       "2      GNW  Wyroby gotowe   Nawozy do trawników                Granulat   \n",
       "3      NaN            NaN                   NaN                     NaN   \n",
       "4      GCG  Wyroby gotowe  Płyn do mycia naczyń  od 0,90 do 1,34 [kg:l]   \n",
       "\n",
       "  PROD_Marka PROD_Etykieta PROD_Kategoria      PROD_Promocja PROD_Waga  \\\n",
       "0     BIOFOS           EKO      POZOSTAŁE  Prod. Standardowe    0,5225   \n",
       "1     BIOFOS      Standard      POZOSTAŁE  Prod. Standardowe    1,5275   \n",
       "2   FLOROVIT      Standard      POZOSTAŁE  Prod. Standardowe         5   \n",
       "3          0           NaN            NaN                NaN       NaN   \n",
       "4     LUDWIK      Standard      POZOSTAŁE  Prod. Standardowe       0,9   \n",
       "\n",
       "                            CUST_Nazwa CUST_Kanał CUST_PH  \n",
       "0             KOMPLEX-TORUS SP. Z O.O.        DSH     HWA  \n",
       "1             KOMPLEX-TORUS SP. Z O.O.        DSH     HWA  \n",
       "2          \"GRUPA INCO\" SPÓŁKA AKCYJNA        POZ     POZ  \n",
       "3          \"GRUPA INCO\" SPÓŁKA AKCYJNA        POZ     POZ  \n",
       "4  Uniwersytet Przyrodniczy w Lublinie        POZ     POZ  "
      ]
     },
     "execution_count": 31,
     "metadata": {},
     "output_type": "execute_result"
    }
   ],
   "source": [
    "t_sprzedaż_w.head()"
   ]
  },
  {
   "cell_type": "code",
   "execution_count": null,
   "id": "4697cbf6-944e-4e5b-89d6-c0305d8623b2",
   "metadata": {},
   "outputs": [],
   "source": []
  }
 ],
 "metadata": {
  "kernelspec": {
   "display_name": "Python 3 (ipykernel)",
   "language": "python",
   "name": "python3"
  },
  "language_info": {
   "codemirror_mode": {
    "name": "ipython",
    "version": 3
   },
   "file_extension": ".py",
   "mimetype": "text/x-python",
   "name": "python",
   "nbconvert_exporter": "python",
   "pygments_lexer": "ipython3",
   "version": "3.10.0"
  }
 },
 "nbformat": 4,
 "nbformat_minor": 5
}