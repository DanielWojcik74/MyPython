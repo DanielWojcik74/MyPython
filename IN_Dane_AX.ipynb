{
 "cells": [
  {
   "cell_type": "code",
   "execution_count": 1,
   "id": "cae0afc0-76e0-45be-9e3f-93f1d8f8b203",
   "metadata": {
    "execution": {
     "iopub.execute_input": "2021-12-02T13:49:13.232399Z",
     "iopub.status.busy": "2021-12-02T13:49:13.232399Z",
     "iopub.status.idle": "2021-12-02T13:49:13.665922Z",
     "shell.execute_reply": "2021-12-02T13:49:13.665922Z",
     "shell.execute_reply.started": "2021-12-02T13:49:13.232399Z"
    },
    "tags": []
   },
   "outputs": [],
   "source": [
    "import pyodbc\n",
    "import pandas as pd\n",
    "import gc"
   ]
  },
  {
   "cell_type": "code",
   "execution_count": 2,
   "id": "2cb12bf6-0958-48f5-8013-ba4ce6b5c23c",
   "metadata": {
    "execution": {
     "iopub.execute_input": "2021-12-02T13:56:55.714137Z",
     "iopub.status.busy": "2021-12-02T13:56:55.714137Z",
     "iopub.status.idle": "2021-12-02T13:57:03.013299Z",
     "shell.execute_reply": "2021-12-02T13:57:03.013299Z",
     "shell.execute_reply.started": "2021-12-02T13:56:55.714137Z"
    },
    "tags": []
   },
   "outputs": [
    {
     "name": "stdout",
     "output_type": "stream",
     "text": [
      "Wall time: 54.3 s\n"
     ]
    },
    {
     "data": {
      "text/plain": [
       "0"
      ]
     },
     "execution_count": 2,
     "metadata": {},
     "output_type": "execute_result"
    }
   ],
   "source": [
    "%%time\n",
    "t_sql=\"Select CSTMP_B_BOMDATAFOREURECA.SOD, CSTMP_B_BOMDATAFOREURECA.ASSORTYMENT, CSTMP_B_BOMDATAFOREURECA.ASSORTYMENTUNITID, CSTMP_B_BOMDATAFOREURECA.GRUPA_AS, CSTMP_B_BOMDATAFOREURECA.ITEM, CSTMP_B_BOMDATAFOREURECA.ITEMUNITID, CSTMP_B_BOMDATAFOREURECA.ITEMGROUPID, CSTMP_B_BOMDATAFOREURECA.QTYCHOOSEN, CSTMP_B_BOMDATAFOREURECA.QTYNET, CSTMP_B_BOMDATAFOREURECA.QTYGROSS, CSTMP_B_BOMDATAFOREURECA.PRICE, CSTMP_B_BOMDATAFOREURECA.PRICEDATE, CSTMP_B_BOMDATAFOREURECA.DATAAREAID From CSTMP_B_BOMDATAFOREURECA Where CSTMP_B_BOMDATAFOREURECA.DATAAREAID = 'prod'\"\n",
    "\n",
    "cnxn=pyodbc.connect('Driver={SQL Server};'\n",
    "                    'Server=192.168.0.29\\EUREKA;'\n",
    "                    'Database=INCO_INT;'\n",
    "                    'Trusted_Connection=yes;')\n",
    "\n",
    "df=pd.read_sql_query (t_sql,cnxn)\n",
    "df.to_csv(r\"C:\\Users\\Daniel.Wojcik\\Documents\\FINANSE_2022_NEW\\B23_IN_BOM_AX.csv\",index=False)\n",
    "del [df]\n",
    "gc.collect()\n"
   ]
  },
  {
   "cell_type": "code",
   "execution_count": 3,
   "id": "ef4bd836-5389-42af-94d7-31831bc1acca",
   "metadata": {
    "execution": {
     "iopub.execute_input": "2021-11-30T10:26:40.565832Z",
     "iopub.status.busy": "2021-11-30T10:26:40.564832Z",
     "iopub.status.idle": "2021-11-30T10:29:55.175016Z",
     "shell.execute_reply": "2021-11-30T10:29:55.175016Z",
     "shell.execute_reply.started": "2021-11-30T10:26:40.565832Z"
    }
   },
   "outputs": [
    {
     "name": "stdout",
     "output_type": "stream",
     "text": [
      "Wall time: 3min 12s\n"
     ]
    },
    {
     "data": {
      "text/plain": [
       "0"
      ]
     },
     "execution_count": 3,
     "metadata": {},
     "output_type": "execute_result"
    }
   ],
   "source": [
    "%%time\n",
    "\n",
    "t_sql=\"Select LEDGERTRANS.ACCOUNTNUM, LEDGERTRANS.TRANSDATE, LEDGERTRANS.VOUCHER, LEDGERTRANS.TXT, LEDGERTRANS.AMOUNTMST, LEDGERTRANS.DIMENSION, LEDGERTRANS.DIMENSION2_, LEDGERTRANS.DIMENSION3_, LEDGERTRANS.DATAAREAID, LEDGERTRANS.DIMENSION4_, LEDGERTABLE.ACCOUNTNAME From LEDGERTRANS Inner Join LEDGERTABLE On LEDGERTABLE.ACCOUNTNUM = LEDGERTRANS.ACCOUNTNUM And LEDGERTABLE.DATAAREAID = LEDGERTRANS.DATAAREAID Where (LEDGERTRANS.ACCOUNTNUM Like '5%') And LEDGERTRANS.TRANSDATE BETWEEN '2021-01-01' And '2022-12-31' And LEDGERTRANS.DATAAREAID = 'prod'\"\n",
    "cnxn=pyodbc.connect('Driver={SQL Server};'\n",
    "                    'Server=192.168.0.29\\EUREKA;'\n",
    "                    'Database=INCO_INT;'\n",
    "                    'Trusted_Connection=yes;')\n",
    "\n",
    "df=pd.read_sql_query (t_sql,cnxn)\n",
    "df.to_csv(r\"C:\\Users\\Daniel.Wojcik\\Documents\\FINANSE_2022_NEW\\B23_IN_OPEX_AX.csv\",index=False)\n",
    "del [df]\n",
    "gc.collect()"
   ]
  },
  {
   "cell_type": "code",
   "execution_count": 4,
   "id": "760e7095-8f4f-46c0-aeb9-465d03fc1caa",
   "metadata": {
    "execution": {
     "iopub.execute_input": "2021-11-30T14:08:15.603468Z",
     "iopub.status.busy": "2021-11-30T14:08:15.603468Z",
     "iopub.status.idle": "2021-11-30T14:08:15.947939Z",
     "shell.execute_reply": "2021-11-30T14:08:15.947939Z",
     "shell.execute_reply.started": "2021-11-30T14:08:15.603468Z"
    }
   },
   "outputs": [
    {
     "name": "stdout",
     "output_type": "stream",
     "text": [
      "Wall time: 278 ms\n"
     ]
    },
    {
     "data": {
      "text/plain": [
       "0"
      ]
     },
     "execution_count": 4,
     "metadata": {},
     "output_type": "execute_result"
    }
   ],
   "source": [
    "%%time\n",
    "t_sql=\"Select NUM, DESCRIPTION From DIMENSIONS Where DIMENSIONCODE = 1 And DIMENSIONS.NUM Like '4%' And DATAAREAID = 'prod'\"\n",
    "\n",
    "cnxn=pyodbc.connect('Driver={SQL Server};'\n",
    "                    'Server=192.168.0.29\\EUREKA;'\n",
    "                    'Database=INCO_INT;'\n",
    "                    'Trusted_Connection=yes;')\n",
    "\n",
    "df=pd.read_sql_query (t_sql,cnxn)\n",
    "df.to_csv(r\"C:\\Users\\Daniel.Wojcik\\Documents\\FINANSE_2022_NEW\\IN_CEL.csv\",index=False)\n",
    "del [df]\n",
    "gc.collect()"
   ]
  },
  {
   "cell_type": "code",
   "execution_count": 5,
   "id": "be003d92-c0d5-4440-9f44-89342ddce989",
   "metadata": {
    "execution": {
     "iopub.execute_input": "2021-12-01T14:35:40.923972Z",
     "iopub.status.busy": "2021-12-01T14:35:40.923972Z",
     "iopub.status.idle": "2021-12-01T14:35:50.327118Z",
     "shell.execute_reply": "2021-12-01T14:35:50.327118Z",
     "shell.execute_reply.started": "2021-12-01T14:35:40.923972Z"
    },
    "tags": []
   },
   "outputs": [
    {
     "name": "stdout",
     "output_type": "stream",
     "text": [
      "Wall time: 7.09 s\n"
     ]
    },
    {
     "data": {
      "text/plain": [
       "0"
      ]
     },
     "execution_count": 5,
     "metadata": {},
     "output_type": "execute_result"
    }
   ],
   "source": [
    "%%time\n",
    "\n",
    "t_sql=\"Select ASSETTABLE.ASSETID, ASSETTABLE.ASSETGROUP, ASSETTABLE.NAME, ASSETTABLE.LOCATION, ASSETBOOK.LIFETIME, ASSETTRANS.TXT, ASSETTRANS.TRANSDATE, ASSETTRANS.DIMENSION, ASSETTRANS.DIMENSION2_, ASSETTRANS.DIMENSION3_, ASSETTRANS.TRANSTYPE, ASSETTRANS.VOUCHER, ASSETTRANS.AMOUNTMST From ASSETBOOK Inner Join ASSETTABLE On ASSETBOOK.ASSETID = ASSETTABLE.ASSETID And ASSETBOOK.DATAAREAID = ASSETTABLE.DATAAREAID Inner Join ASSETTRANS On ASSETTRANS.ASSETID = ASSETBOOK.ASSETID And ASSETTRANS.DATAAREAID = ASSETBOOK.DATAAREAID And ASSETTRANS.BOOKID = ASSETBOOK.BOOKID Where ASSETTRANS.TRANSDATE <= '2022-12-31' And ASSETTRANS.BOOKID = 'BIL_LIN' And ASSETTABLE.DATAAREAID = 'prod'\"\n",
    "\n",
    "cnxn=pyodbc.connect('Driver={SQL Server};'\n",
    "                    'Server=192.168.0.29\\EUREKA;'\n",
    "                    'Database=INCO_INT;'\n",
    "                    'Trusted_Connection=yes;')\n",
    "\n",
    "df=pd.read_sql_query (t_sql,cnxn)\n",
    "df.to_csv(r\"C:\\Users\\Daniel.Wojcik\\Documents\\FINANSE_2022_NEW\\IN_RAT.csv\",index=False)\n",
    "del [df]\n",
    "gc.collect()\n"
   ]
  },
  {
   "cell_type": "code",
   "execution_count": 6,
   "id": "21ccd61d-a56e-41ac-9d30-a5847a74ac9e",
   "metadata": {},
   "outputs": [
    {
     "name": "stdout",
     "output_type": "stream",
     "text": [
      "Wall time: 4min 55s\n"
     ]
    },
    {
     "data": {
      "text/plain": [
       "0"
      ]
     },
     "execution_count": 6,
     "metadata": {},
     "output_type": "execute_result"
    }
   ],
   "source": [
    "%%time\n",
    "\n",
    "t_sql=\"Select LEDGERTRANS.ACCOUNTNUM, LEDGERTRANS.TRANSDATE, LEDGERTRANS.VOUCHER, LEDGERTRANS.TXT, LEDGERTRANS.AMOUNTMST, LEDGERTRANS.DIMENSION, LEDGERTRANS.DIMENSION2_, LEDGERTRANS.DIMENSION3_, LEDGERTRANS.DATAAREAID, LEDGERTRANS.DIMENSION4_, LEDGERTABLE.ACCOUNTNAME From LEDGERTRANS Inner Join LEDGERTABLE On LEDGERTABLE.ACCOUNTNUM = LEDGERTRANS.ACCOUNTNUM And LEDGERTABLE.DATAAREAID = LEDGERTRANS.DATAAREAID Where LEDGERTRANS.TRANSDATE BETWEEN '2021-01-01' And '2022-12-31' And LEDGERTRANS.DATAAREAID = 'prod'\"\n",
    "cnxn=pyodbc.connect('Driver={SQL Server};'\n",
    "                    'Server=192.168.0.29\\EUREKA;'\n",
    "                    'Database=INCO_INT;'\n",
    "                    'Trusted_Connection=yes;')\n",
    "\n",
    "df=pd.read_sql_query (t_sql,cnxn)\n",
    "df.to_csv(r\"C:\\Users\\Daniel.Wojcik\\Documents\\FINANSE_2022_NEW\\B23_IN_ALL_AX.csv\",index=False)\n",
    "del [df]\n",
    "gc.collect()"
   ]
  },
  {
   "cell_type": "code",
   "execution_count": 2,
   "id": "e776f508",
   "metadata": {},
   "outputs": [
    {
     "name": "stdout",
     "output_type": "stream",
     "text": [
      "Wall time: 49.2 s\n"
     ]
    },
    {
     "data": {
      "text/plain": [
       "0"
      ]
     },
     "execution_count": 2,
     "metadata": {},
     "output_type": "execute_result"
    }
   ],
   "source": [
    "%%time\n",
    "\n",
    "t_sql=\"Select LEDGERTRANS.ACCOUNTNUM, LEDGERTRANS.TRANSDATE, LEDGERTRANS.VOUCHER, LEDGERTRANS.TXT, LEDGERTRANS.AMOUNTMST, LEDGERTRANS.DIMENSION, LEDGERTRANS.DIMENSION2_, LEDGERTRANS.DIMENSION3_, LEDGERTRANS.DATAAREAID, LEDGERTRANS.DIMENSION4_, LEDGERTABLE.ACCOUNTNAME From LEDGERTRANS Inner Join LEDGERTABLE On LEDGERTABLE.ACCOUNTNUM = LEDGERTRANS.ACCOUNTNUM And LEDGERTABLE.DATAAREAID = LEDGERTRANS.DATAAREAID Where LEDGERTRANS.TRANSDATE BETWEEN '2014-01-01' And '2022-12-31' And LEDGERTRANS.DATAAREAID <> 'prod'\"\n",
    "cnxn=pyodbc.connect('Driver={SQL Server};'\n",
    "                    'Server=192.168.0.29\\EUREKA;'\n",
    "                    'Database=INCO_INT;'\n",
    "                    'Trusted_Connection=yes;')\n",
    "\n",
    "df=pd.read_sql_query (t_sql,cnxn)\n",
    "df.to_csv(r\"C:\\Users\\Daniel.Wojcik\\Documents\\FINANSE_2022_NEW\\B23_IN_SPV_AX.csv\",index=False)\n",
    "del [df]\n",
    "gc.collect()"
   ]
  }
 ],
 "metadata": {
  "kernelspec": {
   "display_name": "Python 3.9.7 64-bit",
   "language": "python",
   "name": "python3"
  },
  "language_info": {
   "codemirror_mode": {
    "name": "ipython",
    "version": 3
   },
   "file_extension": ".py",
   "mimetype": "text/x-python",
   "name": "python",
   "nbconvert_exporter": "python",
   "pygments_lexer": "ipython3",
   "version": "3.9.7 (tags/v3.9.7:1016ef3, Aug 30 2021, 20:19:38) [MSC v.1929 64 bit (AMD64)]"
  },
  "vscode": {
   "interpreter": {
    "hash": "fce886a4837f2ade4e33048383ec24248402677de8662e778bc5bdf8e3e4b1b3"
   }
  }
 },
 "nbformat": 4,
 "nbformat_minor": 5
}
